{
 "cells": [
  {
   "cell_type": "markdown",
   "id": "431edffb",
   "metadata": {},
   "source": [
    "<center>DATA ANALYSIS</center>\n",
    "<center> Happiness Determinants</center>"
   ]
  },
  {
   "cell_type": "code",
   "execution_count": 1,
   "id": "7e863fa9",
   "metadata": {},
   "outputs": [],
   "source": [
    "# Import Dependencies\n",
    "import csv\n",
    "import pandas as pd\n",
    "import statsmodels.api as sm\n",
    "import matplotlib.pyplot as plt\n"
   ]
  },
  {
   "cell_type": "code",
   "execution_count": 2,
   "id": "b812fd37",
   "metadata": {},
   "outputs": [
    {
     "data": {
      "text/html": [
       "<div>\n",
       "<style scoped>\n",
       "    .dataframe tbody tr th:only-of-type {\n",
       "        vertical-align: middle;\n",
       "    }\n",
       "\n",
       "    .dataframe tbody tr th {\n",
       "        vertical-align: top;\n",
       "    }\n",
       "\n",
       "    .dataframe thead th {\n",
       "        text-align: right;\n",
       "    }\n",
       "</style>\n",
       "<table border=\"1\" class=\"dataframe\">\n",
       "  <thead>\n",
       "    <tr style=\"text-align: right;\">\n",
       "      <th></th>\n",
       "      <th>Country</th>\n",
       "      <th>Happiness_score</th>\n",
       "      <th>GDP_per_capita</th>\n",
       "      <th>Social_support</th>\n",
       "      <th>Healthy_life_expectancy</th>\n",
       "      <th>Corruption</th>\n",
       "      <th>Id</th>\n",
       "    </tr>\n",
       "  </thead>\n",
       "  <tbody>\n",
       "    <tr>\n",
       "      <th>0</th>\n",
       "      <td>Afghanistan</td>\n",
       "      <td>1.859</td>\n",
       "      <td>7.324</td>\n",
       "      <td>0.341</td>\n",
       "      <td>54.712</td>\n",
       "      <td>0.847</td>\n",
       "      <td>1</td>\n",
       "    </tr>\n",
       "    <tr>\n",
       "      <th>1</th>\n",
       "      <td>Albania</td>\n",
       "      <td>5.277</td>\n",
       "      <td>9.567</td>\n",
       "      <td>0.718</td>\n",
       "      <td>69.150</td>\n",
       "      <td>0.878</td>\n",
       "      <td>2</td>\n",
       "    </tr>\n",
       "    <tr>\n",
       "      <th>2</th>\n",
       "      <td>Algeria</td>\n",
       "      <td>5.329</td>\n",
       "      <td>9.300</td>\n",
       "      <td>0.855</td>\n",
       "      <td>66.549</td>\n",
       "      <td>0.717</td>\n",
       "      <td>3</td>\n",
       "    </tr>\n",
       "    <tr>\n",
       "      <th>3</th>\n",
       "      <td>Argentina</td>\n",
       "      <td>6.024</td>\n",
       "      <td>9.959</td>\n",
       "      <td>0.891</td>\n",
       "      <td>67.200</td>\n",
       "      <td>0.814</td>\n",
       "      <td>5</td>\n",
       "    </tr>\n",
       "    <tr>\n",
       "      <th>4</th>\n",
       "      <td>Armenia</td>\n",
       "      <td>5.342</td>\n",
       "      <td>9.615</td>\n",
       "      <td>0.790</td>\n",
       "      <td>67.789</td>\n",
       "      <td>0.705</td>\n",
       "      <td>6</td>\n",
       "    </tr>\n",
       "  </tbody>\n",
       "</table>\n",
       "</div>"
      ],
      "text/plain": [
       "      Country   Happiness_score  GDP_per_capita  Social_support  \\\n",
       "0  Afghanistan            1.859           7.324           0.341   \n",
       "1      Albania            5.277           9.567           0.718   \n",
       "2      Algeria            5.329           9.300           0.855   \n",
       "3    Argentina            6.024           9.959           0.891   \n",
       "4      Armenia            5.342           9.615           0.790   \n",
       "\n",
       "   Healthy_life_expectancy  Corruption  Id  \n",
       "0                   54.712       0.847   1  \n",
       "1                   69.150       0.878   2  \n",
       "2                   66.549       0.717   3  \n",
       "3                   67.200       0.814   5  \n",
       "4                   67.789       0.705   6  "
      ]
     },
     "execution_count": 2,
     "metadata": {},
     "output_type": "execute_result"
    }
   ],
   "source": [
    "# Read the CSV file and create pandas dataframe\n",
    "df = pd.read_csv('happiness.csv')\n",
    "\n",
    "# Print the dataframe\n",
    "df.head()\n"
   ]
  },
  {
   "cell_type": "markdown",
   "id": "1a304783",
   "metadata": {},
   "source": [
    "<center>The following Table illustrates the Bottom 6 Countries based on Happiness Score</center>"
   ]
  },
  {
   "cell_type": "code",
   "execution_count": 3,
   "id": "25059a61",
   "metadata": {},
   "outputs": [
    {
     "data": {
      "text/html": [
       "<div>\n",
       "<style scoped>\n",
       "    .dataframe tbody tr th:only-of-type {\n",
       "        vertical-align: middle;\n",
       "    }\n",
       "\n",
       "    .dataframe tbody tr th {\n",
       "        vertical-align: top;\n",
       "    }\n",
       "\n",
       "    .dataframe thead th {\n",
       "        text-align: right;\n",
       "    }\n",
       "</style>\n",
       "<table border=\"1\" class=\"dataframe\">\n",
       "  <thead>\n",
       "    <tr style=\"text-align: right;\">\n",
       "      <th></th>\n",
       "      <th>Country</th>\n",
       "      <th>Happiness_score</th>\n",
       "      <th>GDP_per_capita</th>\n",
       "      <th>Social_support</th>\n",
       "      <th>Healthy_life_expectancy</th>\n",
       "      <th>Corruption</th>\n",
       "      <th>Id</th>\n",
       "    </tr>\n",
       "  </thead>\n",
       "  <tbody>\n",
       "    <tr>\n",
       "      <th>0</th>\n",
       "      <td>Afghanistan</td>\n",
       "      <td>1.859</td>\n",
       "      <td>7.324</td>\n",
       "      <td>0.341</td>\n",
       "      <td>54.712</td>\n",
       "      <td>0.847</td>\n",
       "      <td>1</td>\n",
       "    </tr>\n",
       "    <tr>\n",
       "      <th>57</th>\n",
       "      <td>Lebanon</td>\n",
       "      <td>2.392</td>\n",
       "      <td>9.478</td>\n",
       "      <td>0.530</td>\n",
       "      <td>66.149</td>\n",
       "      <td>0.891</td>\n",
       "      <td>93</td>\n",
       "    </tr>\n",
       "    <tr>\n",
       "      <th>110</th>\n",
       "      <td>Zimbabwe</td>\n",
       "      <td>3.204</td>\n",
       "      <td>7.641</td>\n",
       "      <td>0.690</td>\n",
       "      <td>54.050</td>\n",
       "      <td>0.766</td>\n",
       "      <td>183</td>\n",
       "    </tr>\n",
       "    <tr>\n",
       "      <th>12</th>\n",
       "      <td>Botswana</td>\n",
       "      <td>3.435</td>\n",
       "      <td>9.629</td>\n",
       "      <td>0.753</td>\n",
       "      <td>54.725</td>\n",
       "      <td>0.830</td>\n",
       "      <td>21</td>\n",
       "    </tr>\n",
       "    <tr>\n",
       "      <th>96</th>\n",
       "      <td>Tanzania</td>\n",
       "      <td>3.694</td>\n",
       "      <td>7.857</td>\n",
       "      <td>0.653</td>\n",
       "      <td>59.401</td>\n",
       "      <td>0.554</td>\n",
       "      <td>162</td>\n",
       "    </tr>\n",
       "    <tr>\n",
       "      <th>109</th>\n",
       "      <td>Zambia</td>\n",
       "      <td>3.982</td>\n",
       "      <td>8.074</td>\n",
       "      <td>0.694</td>\n",
       "      <td>55.032</td>\n",
       "      <td>0.818</td>\n",
       "      <td>182</td>\n",
       "    </tr>\n",
       "  </tbody>\n",
       "</table>\n",
       "</div>"
      ],
      "text/plain": [
       "        Country   Happiness_score  GDP_per_capita  Social_support  \\\n",
       "0    Afghanistan            1.859           7.324           0.341   \n",
       "57       Lebanon            2.392           9.478           0.530   \n",
       "110     Zimbabwe            3.204           7.641           0.690   \n",
       "12      Botswana            3.435           9.629           0.753   \n",
       "96      Tanzania            3.694           7.857           0.653   \n",
       "109       Zambia            3.982           8.074           0.694   \n",
       "\n",
       "     Healthy_life_expectancy  Corruption   Id  \n",
       "0                     54.712       0.847    1  \n",
       "57                    66.149       0.891   93  \n",
       "110                   54.050       0.766  183  \n",
       "12                    54.725       0.830   21  \n",
       "96                    59.401       0.554  162  \n",
       "109                   55.032       0.818  182  "
      ]
     },
     "execution_count": 3,
     "metadata": {},
     "output_type": "execute_result"
    }
   ],
   "source": [
    "# Print df by ascending Happiness Score - Least Happy\n",
    "Least_Happy = df.sort_values('Happiness_score', ascending=True)\n",
    "\n",
    "# Print the sorted dataframe\n",
    "Least_Happy.head(6)"
   ]
  },
  {
   "cell_type": "markdown",
   "id": "a8bf11a5",
   "metadata": {},
   "source": [
    "<center>The following Table illustrates the Top 6 Countries based on Happiness Score</center>"
   ]
  },
  {
   "cell_type": "code",
   "execution_count": 4,
   "id": "2bda69d0",
   "metadata": {},
   "outputs": [
    {
     "data": {
      "text/html": [
       "<div>\n",
       "<style scoped>\n",
       "    .dataframe tbody tr th:only-of-type {\n",
       "        vertical-align: middle;\n",
       "    }\n",
       "\n",
       "    .dataframe tbody tr th {\n",
       "        vertical-align: top;\n",
       "    }\n",
       "\n",
       "    .dataframe thead th {\n",
       "        text-align: right;\n",
       "    }\n",
       "</style>\n",
       "<table border=\"1\" class=\"dataframe\">\n",
       "  <thead>\n",
       "    <tr style=\"text-align: right;\">\n",
       "      <th></th>\n",
       "      <th>Country</th>\n",
       "      <th>Happiness_score</th>\n",
       "      <th>GDP_per_capita</th>\n",
       "      <th>Social_support</th>\n",
       "      <th>Healthy_life_expectancy</th>\n",
       "      <th>Corruption</th>\n",
       "      <th>Id</th>\n",
       "    </tr>\n",
       "  </thead>\n",
       "  <tbody>\n",
       "    <tr>\n",
       "      <th>32</th>\n",
       "      <td>Finland</td>\n",
       "      <td>7.804</td>\n",
       "      <td>10.792</td>\n",
       "      <td>0.969</td>\n",
       "      <td>71.150</td>\n",
       "      <td>0.182</td>\n",
       "      <td>57</td>\n",
       "    </tr>\n",
       "    <tr>\n",
       "      <th>25</th>\n",
       "      <td>Denmark</td>\n",
       "      <td>7.586</td>\n",
       "      <td>10.962</td>\n",
       "      <td>0.954</td>\n",
       "      <td>71.250</td>\n",
       "      <td>0.196</td>\n",
       "      <td>45</td>\n",
       "    </tr>\n",
       "    <tr>\n",
       "      <th>41</th>\n",
       "      <td>Iceland</td>\n",
       "      <td>7.530</td>\n",
       "      <td>10.896</td>\n",
       "      <td>0.983</td>\n",
       "      <td>72.050</td>\n",
       "      <td>0.668</td>\n",
       "      <td>73</td>\n",
       "    </tr>\n",
       "    <tr>\n",
       "      <th>47</th>\n",
       "      <td>Israel</td>\n",
       "      <td>7.473</td>\n",
       "      <td>10.639</td>\n",
       "      <td>0.943</td>\n",
       "      <td>72.697</td>\n",
       "      <td>0.708</td>\n",
       "      <td>79</td>\n",
       "    </tr>\n",
       "    <tr>\n",
       "      <th>71</th>\n",
       "      <td>Netherlands</td>\n",
       "      <td>7.403</td>\n",
       "      <td>10.942</td>\n",
       "      <td>0.930</td>\n",
       "      <td>71.550</td>\n",
       "      <td>0.379</td>\n",
       "      <td>119</td>\n",
       "    </tr>\n",
       "    <tr>\n",
       "      <th>93</th>\n",
       "      <td>Sweden</td>\n",
       "      <td>7.395</td>\n",
       "      <td>10.883</td>\n",
       "      <td>0.939</td>\n",
       "      <td>72.150</td>\n",
       "      <td>0.202</td>\n",
       "      <td>157</td>\n",
       "    </tr>\n",
       "  </tbody>\n",
       "</table>\n",
       "</div>"
      ],
      "text/plain": [
       "       Country   Happiness_score  GDP_per_capita  Social_support  \\\n",
       "32      Finland            7.804          10.792           0.969   \n",
       "25      Denmark            7.586          10.962           0.954   \n",
       "41      Iceland            7.530          10.896           0.983   \n",
       "47       Israel            7.473          10.639           0.943   \n",
       "71  Netherlands            7.403          10.942           0.930   \n",
       "93       Sweden            7.395          10.883           0.939   \n",
       "\n",
       "    Healthy_life_expectancy  Corruption   Id  \n",
       "32                   71.150       0.182   57  \n",
       "25                   71.250       0.196   45  \n",
       "41                   72.050       0.668   73  \n",
       "47                   72.697       0.708   79  \n",
       "71                   71.550       0.379  119  \n",
       "93                   72.150       0.202  157  "
      ]
     },
     "execution_count": 4,
     "metadata": {},
     "output_type": "execute_result"
    }
   ],
   "source": [
    "# Print df by descending Happiness Score - Most Happy\n",
    "Most_Happy = df.sort_values('Happiness_score', ascending=False)\n",
    "\n",
    "# Print the sorted dataframe\n",
    "Most_Happy.head(6)"
   ]
  },
  {
   "cell_type": "markdown",
   "id": "c6bc69d8",
   "metadata": {},
   "source": [
    "<center>The Section Below uses Scatterplots to Illustrate the Impact of GDP per Capita, Social Support, Healthy Life Expectancy, and Corruption on Happiness Scores</center>"
   ]
  },
  {
   "cell_type": "code",
   "execution_count": 5,
   "id": "002d8f91",
   "metadata": {},
   "outputs": [
    {
     "data": {
      "image/png": "[encoded data removed]",
      "text/plain": [
       "<Figure size 432x288 with 1 Axes>"
      ]
     },
     "metadata": {
      "needs_background": "light"
     },
     "output_type": "display_data"
    }
   ],
   "source": [
    "# Create a scatter plot: Happiness & GDP per Capita\n",
    "df.plot.scatter(x='GDP_per_capita', y='Happiness_score')\n",
    "\n",
    "# Set the axis labels and plot title\n",
    "plt.xlabel('GDP per Capita')\n",
    "plt.ylabel('Happiness Score')\n",
    "plt.title('Impact of GDP per Capita on Happiness')\n",
    "\n",
    "# Display the plot\n",
    "plt.show()"
   ]
  },
  {
   "cell_type": "code",
   "execution_count": 6,
   "id": "fd52331c",
   "metadata": {},
   "outputs": [
    {
     "data": {
      "image/png": "[encoded data removed]",
      "text/plain": [
       "<Figure size 432x288 with 1 Axes>"
      ]
     },
     "metadata": {
      "needs_background": "light"
     },
     "output_type": "display_data"
    }
   ],
   "source": [
    "# Create a scatter plot: Happiness & Social Support\n",
    "df.plot.scatter(x='Social_support', y='Happiness_score')\n",
    "\n",
    "# Set the axis labels and plot title\n",
    "plt.xlabel('Social Support')\n",
    "plt.ylabel('Happiness Score')\n",
    "plt.title('Impact of Social Support on Happiness')\n",
    "\n",
    "# Display the plot\n",
    "plt.show()"
   ]
  },
  {
   "cell_type": "code",
   "execution_count": 7,
   "id": "3bbbefb4",
   "metadata": {},
   "outputs": [
    {
     "data": {
      "image/png": "[encoded data removed]",
      "text/plain": [
       "<Figure size 432x288 with 1 Axes>"
      ]
     },
     "metadata": {
      "needs_background": "light"
     },
     "output_type": "display_data"
    }
   ],
   "source": [
    "# Create a scatter plot: Happiness & Healthy Life Expectancy\n",
    "df.plot.scatter(x='Healthy_life_expectancy', y='Happiness_score')\n",
    "\n",
    "# Set the axis labels and plot title\n",
    "plt.xlabel('Healthy Life Expectancy')\n",
    "plt.ylabel('Happiness Score')\n",
    "plt.title('Impact of Healthy Life Expectancy on Happiness')\n",
    "\n",
    "# Display the plot\n",
    "plt.show()"
   ]
  },
  {
   "cell_type": "code",
   "execution_count": 8,
   "id": "bfdbcc94",
   "metadata": {},
   "outputs": [
    {
     "data": {
      "image/png": "[encoded data removed]",
      "text/plain": [
       "<Figure size 432x288 with 1 Axes>"
      ]
     },
     "metadata": {
      "needs_background": "light"
     },
     "output_type": "display_data"
    }
   ],
   "source": [
    "# Create a scatter plot: Happiness & Corruption\n",
    "df.plot.scatter(x='Corruption', y='Happiness_score')\n",
    "\n",
    "# Set the axis labels and plot title\n",
    "plt.xlabel('Corruption')\n",
    "plt.ylabel('Happiness Score')\n",
    "plt.title('Impact of Corruption on Happiness')\n",
    "\n",
    "# Display the plot\n",
    "plt.show()"
   ]
  },
  {
   "cell_type": "markdown",
   "id": "4ff31e8c",
   "metadata": {},
   "source": [
    "<center>The Section below represents a multivariate regression analysis of the Impact of GDP per Capita, Social Support, Healthy Life Expectancy, and Corruption on Happiness Scores</center>"
   ]
  },
  {
   "cell_type": "code",
   "execution_count": 9,
   "id": "6acb23db",
   "metadata": {},
   "outputs": [
    {
     "name": "stdout",
     "output_type": "stream",
     "text": [
      "                            OLS Regression Results                            \n",
      "==============================================================================\n",
      "Dep. Variable:        Happiness_score   R-squared:                       0.813\n",
      "Model:                            OLS   Adj. R-squared:                  0.806\n",
      "Method:                 Least Squares   F-statistic:                     115.1\n",
      "Date:                Mon, 29 May 2023   Prob (F-statistic):           1.17e-37\n",
      "Time:                        18:36:12   Log-Likelihood:                -74.079\n",
      "No. Observations:                 111   AIC:                             158.2\n",
      "Df Residuals:                     106   BIC:                             171.7\n",
      "Df Model:                           4                                         \n",
      "Covariance Type:            nonrobust                                         \n",
      "===========================================================================================\n",
      "                              coef    std err          t      P>|t|      [0.025      0.975]\n",
      "-------------------------------------------------------------------------------------------\n",
      "const                      -2.4887      0.828     -3.005      0.003      -4.131      -0.847\n",
      "GDP_per_capita              0.1560      0.076      2.062      0.042       0.006       0.306\n",
      "Social_support              5.7261      0.582      9.838      0.000       4.572       6.880\n",
      "Healthy_life_expectancy     0.0414      0.015      2.692      0.008       0.011       0.072\n",
      "Corruption                 -1.0898      0.284     -3.832      0.000      -1.654      -0.526\n",
      "==============================================================================\n",
      "Omnibus:                        5.241   Durbin-Watson:                   2.035\n",
      "Prob(Omnibus):                  0.073   Jarque-Bera (JB):                4.719\n",
      "Skew:                          -0.407   Prob(JB):                       0.0944\n",
      "Kurtosis:                       3.599   Cond. No.                     1.25e+03\n",
      "==============================================================================\n",
      "\n",
      "Notes:\n",
      "[1] Standard Errors assume that the covariance matrix of the errors is correctly specified.\n",
      "[2] The condition number is large, 1.25e+03. This might indicate that there are\n",
      "strong multicollinearity or other numerical problems.\n"
     ]
    }
   ],
   "source": [
    "# Regression analysis to test model\n",
    "\n",
    "# Define the dependent variable (y) and independent variables (x)\n",
    "y = df['Happiness_score']\n",
    "x = df[['GDP_per_capita', 'Social_support', 'Healthy_life_expectancy', 'Corruption']]\n",
    "\n",
    "# Add a constant term to the independent variables\n",
    "x = sm.add_constant(x)\n",
    "\n",
    "# Perform the multivariate regression analysis\n",
    "model = sm.OLS(y, x).fit()\n",
    "\n",
    "# Print the summary statistics of the regression model\n",
    "print(model.summary())\n"
   ]
  },
  {
   "cell_type": "markdown",
   "id": "826a0312",
   "metadata": {},
   "source": [
    "### In conclusion, the result of the regression analysis is statistically significant due to p values being less than 0.05 significance level. Based on the model above, corruption is the most statistically significant variable and GDP per capita is the least one.###"
   ]
  },
  {
   "cell_type": "code",
   "execution_count": null,
   "id": "cfd0e0a2",
   "metadata": {},
   "outputs": [],
   "source": []
  }
 ],
 "metadata": {
  "kernelspec": {
   "display_name": "Python [conda env:PythonData] *",
   "language": "python",
   "name": "conda-env-PythonData-py"
  },
  "language_info": {
   "codemirror_mode": {
    "name": "ipython",
    "version": 3
   },
   "file_extension": ".py",
   "mimetype": "text/x-python",
   "name": "python",
   "nbconvert_exporter": "python",
   "pygments_lexer": "ipython3",
   "version": "3.7.7"
  }
 },
 "nbformat": 4,
 "nbformat_minor": 5
}
