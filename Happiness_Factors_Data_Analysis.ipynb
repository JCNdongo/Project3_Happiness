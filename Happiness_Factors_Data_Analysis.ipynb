{
 "cells": [
  {
   "cell_type": "markdown",
   "id": "bc275d21",
   "metadata": {},
   "source": [
    "## DATA ANALYSIS: HAPPINESS DETERMINANTS PER COUNTRY - 2023##"
   ]
  },
  {
   "cell_type": "markdown",
   "id": "f0a7dfac",
   "metadata": {},
   "source": [
    "The 2023 data resulted from the merger of the 3 csv files below:\n",
    "\n",
    "1. Crime.csv (Crime Rate by Country 2023 retrieved from https://worldpopulationreview.com/country-rankings/crime-rate-by-country),\n",
    "2. Happiness.csv (World Happiness Report 2023 retrieved from https://www.kaggle.com/datasets/ajaypalsinghlo/world-happiness-report-2023), and \n",
    "3. Freedom.csv (2023 Heritage Foundation Economic Freedom data retrieved from https://www.heritage.org/index/explore?view=by-region-country-year&countryids=&regionids=&yearids=24). \n",
    "\n",
    "The .csv files were imported into SQL where the data was housed and merged to produce one database and a corresponding.csv file with 111 unique records: Happiness_Factors.sql and Happiness_Factors.csv\n",
    "\n",
    "The analysis consisted of Scatterplots, Multivariate Regressions, and Interactive Bar Charts using the following variables:\n",
    "\n",
    "* y variable: Happiness Score\n",
    "\n",
    "* x variables: GDP per Capita, Social Support, Healthy Life Expectancy, Corruption, Freedom_Score, Property_Rights, Government_Spending, Business, Trade, and Crime_Index"
   ]
  },
  {
   "cell_type": "markdown",
   "id": "765c0a8b",
   "metadata": {},
   "source": [
    "### DATA SETUP###\n"
   ]
  },
  {
   "cell_type": "code",
   "execution_count": 1,
   "id": "eac95e04",
   "metadata": {},
   "outputs": [],
   "source": [
    "# Import Dependencies\n",
    "import csv\n",
    "import pandas as pd\n",
    "import statsmodels.api as sm\n",
    "import matplotlib.pyplot as plt\n"
   ]
  },
  {
   "cell_type": "code",
   "execution_count": 2,
   "id": "d6897d8d",
   "metadata": {},
   "outputs": [
    {
     "data": {
      "text/html": [
       "<div>\n",
       "<style scoped>\n",
       "    .dataframe tbody tr th:only-of-type {\n",
       "        vertical-align: middle;\n",
       "    }\n",
       "\n",
       "    .dataframe tbody tr th {\n",
       "        vertical-align: top;\n",
       "    }\n",
       "\n",
       "    .dataframe thead th {\n",
       "        text-align: right;\n",
       "    }\n",
       "</style>\n",
       "<table border=\"1\" class=\"dataframe\">\n",
       "  <thead>\n",
       "    <tr style=\"text-align: right;\">\n",
       "      <th></th>\n",
       "      <th>Country</th>\n",
       "      <th>Happiness_Score</th>\n",
       "      <th>GDP_per_capita</th>\n",
       "      <th>Social_support</th>\n",
       "      <th>Healthy_life_expectancy</th>\n",
       "      <th>Corruption</th>\n",
       "      <th>Id</th>\n",
       "      <th>Freedom_Score</th>\n",
       "      <th>Property_Rights</th>\n",
       "      <th>Government_Spending</th>\n",
       "      <th>Business</th>\n",
       "      <th>Trade</th>\n",
       "      <th>Investment</th>\n",
       "      <th>rank</th>\n",
       "      <th>Crime_Index</th>\n",
       "      <th>Population</th>\n",
       "    </tr>\n",
       "  </thead>\n",
       "  <tbody>\n",
       "    <tr>\n",
       "      <th>0</th>\n",
       "      <td>Afghanistan</td>\n",
       "      <td>1.859</td>\n",
       "      <td>7.324</td>\n",
       "      <td>0.341</td>\n",
       "      <td>54.712</td>\n",
       "      <td>0.847</td>\n",
       "      <td>1</td>\n",
       "      <td>0.0</td>\n",
       "      <td>5.8</td>\n",
       "      <td>0.0</td>\n",
       "      <td>34.6</td>\n",
       "      <td>0.0</td>\n",
       "      <td>0.0</td>\n",
       "      <td>4</td>\n",
       "      <td>76</td>\n",
       "      <td>42239854</td>\n",
       "    </tr>\n",
       "    <tr>\n",
       "      <th>1</th>\n",
       "      <td>Albania</td>\n",
       "      <td>5.277</td>\n",
       "      <td>9.567</td>\n",
       "      <td>0.718</td>\n",
       "      <td>69.150</td>\n",
       "      <td>0.878</td>\n",
       "      <td>2</td>\n",
       "      <td>65.3</td>\n",
       "      <td>55.9</td>\n",
       "      <td>71.0</td>\n",
       "      <td>70.7</td>\n",
       "      <td>82.8</td>\n",
       "      <td>70.0</td>\n",
       "      <td>78</td>\n",
       "      <td>43</td>\n",
       "      <td>2832439</td>\n",
       "    </tr>\n",
       "    <tr>\n",
       "      <th>2</th>\n",
       "      <td>Algeria</td>\n",
       "      <td>5.329</td>\n",
       "      <td>9.300</td>\n",
       "      <td>0.855</td>\n",
       "      <td>66.549</td>\n",
       "      <td>0.717</td>\n",
       "      <td>3</td>\n",
       "      <td>43.2</td>\n",
       "      <td>27.8</td>\n",
       "      <td>50.7</td>\n",
       "      <td>53.6</td>\n",
       "      <td>57.5</td>\n",
       "      <td>30.0</td>\n",
       "      <td>43</td>\n",
       "      <td>52</td>\n",
       "      <td>45606480</td>\n",
       "    </tr>\n",
       "    <tr>\n",
       "      <th>3</th>\n",
       "      <td>Argentina</td>\n",
       "      <td>6.024</td>\n",
       "      <td>9.959</td>\n",
       "      <td>0.891</td>\n",
       "      <td>67.200</td>\n",
       "      <td>0.814</td>\n",
       "      <td>5</td>\n",
       "      <td>51.0</td>\n",
       "      <td>34.6</td>\n",
       "      <td>53.9</td>\n",
       "      <td>55.5</td>\n",
       "      <td>61.2</td>\n",
       "      <td>55.0</td>\n",
       "      <td>18</td>\n",
       "      <td>64</td>\n",
       "      <td>45773884</td>\n",
       "    </tr>\n",
       "    <tr>\n",
       "      <th>4</th>\n",
       "      <td>Armenia</td>\n",
       "      <td>5.342</td>\n",
       "      <td>9.615</td>\n",
       "      <td>0.790</td>\n",
       "      <td>67.789</td>\n",
       "      <td>0.705</td>\n",
       "      <td>6</td>\n",
       "      <td>65.1</td>\n",
       "      <td>50.3</td>\n",
       "      <td>76.3</td>\n",
       "      <td>64.9</td>\n",
       "      <td>73.6</td>\n",
       "      <td>75.0</td>\n",
       "      <td>127</td>\n",
       "      <td>23</td>\n",
       "      <td>2777970</td>\n",
       "    </tr>\n",
       "  </tbody>\n",
       "</table>\n",
       "</div>"
      ],
      "text/plain": [
       "       Country  Happiness_Score  GDP_per_capita  Social_support  \\\n",
       "0  Afghanistan            1.859           7.324           0.341   \n",
       "1      Albania            5.277           9.567           0.718   \n",
       "2      Algeria            5.329           9.300           0.855   \n",
       "3    Argentina            6.024           9.959           0.891   \n",
       "4      Armenia            5.342           9.615           0.790   \n",
       "\n",
       "   Healthy_life_expectancy  Corruption  Id  Freedom_Score  Property_Rights  \\\n",
       "0                   54.712       0.847   1            0.0              5.8   \n",
       "1                   69.150       0.878   2           65.3             55.9   \n",
       "2                   66.549       0.717   3           43.2             27.8   \n",
       "3                   67.200       0.814   5           51.0             34.6   \n",
       "4                   67.789       0.705   6           65.1             50.3   \n",
       "\n",
       "   Government_Spending  Business  Trade  Investment  rank  Crime_Index  \\\n",
       "0                  0.0      34.6    0.0         0.0     4           76   \n",
       "1                 71.0      70.7   82.8        70.0    78           43   \n",
       "2                 50.7      53.6   57.5        30.0    43           52   \n",
       "3                 53.9      55.5   61.2        55.0    18           64   \n",
       "4                 76.3      64.9   73.6        75.0   127           23   \n",
       "\n",
       "   Population  \n",
       "0    42239854  \n",
       "1     2832439  \n",
       "2    45606480  \n",
       "3    45773884  \n",
       "4     2777970  "
      ]
     },
     "execution_count": 2,
     "metadata": {},
     "output_type": "execute_result"
    }
   ],
   "source": [
    "# Read the CSV file and create pandas dataframe\n",
    "df = pd.read_csv('Happiness_Factors.csv')\n",
    "\n",
    "# Print the dataframe\n",
    "df.head()\n"
   ]
  },
  {
   "cell_type": "markdown",
   "id": "eeb7692b",
   "metadata": {},
   "source": [
    "#### The link below leads to a Github page with a Line Graph of Happiness Scores by Country:####\n",
    "https://jcndongo.github.io/happinessline.github.io/Happiness_LINE_index.html"
   ]
  },
  {
   "cell_type": "markdown",
   "id": "69186023",
   "metadata": {},
   "source": [
    "### SCATTERPLOTS###"
   ]
  },
  {
   "cell_type": "markdown",
   "id": "1d29016e",
   "metadata": {},
   "source": [
    "<center>The Section Below uses Scatterplots to Illustrate the Impact of GDP per Capita, Social Support, Healthy Life Expectancy, Corruption, Freedom_Score, Property_Rights, Government_Spending, Business, Trade, and Crime_Index on Happiness Scores</center>"
   ]
  },
  {
   "cell_type": "code",
   "execution_count": 3,
   "id": "b84fc132",
   "metadata": {},
   "outputs": [
    {
     "data": {
      "image/png": "[encoded data removed]",
      "text/plain": [
       "<Figure size 432x288 with 1 Axes>"
      ]
     },
     "metadata": {
      "needs_background": "light"
     },
     "output_type": "display_data"
    }
   ],
   "source": [
    "# Create a scatter plot: Happiness & GDP per Capita\n",
    "df.plot.scatter(x='GDP_per_capita', y='Happiness_Score')\n",
    "\n",
    "# Set the axis labels and plot title\n",
    "plt.xlabel('GDP per Capita')\n",
    "plt.ylabel('Happiness Score')\n",
    "plt.title('Impact of GDP per Capita on Happiness')\n",
    "\n",
    "# Display the plot\n",
    "plt.show()"
   ]
  },
  {
   "cell_type": "code",
   "execution_count": 4,
   "id": "9e44b89a",
   "metadata": {},
   "outputs": [
    {
     "data": {
      "image/png": "[encoded data removed]",
      "text/plain": [
       "<Figure size 432x288 with 1 Axes>"
      ]
     },
     "metadata": {
      "needs_background": "light"
     },
     "output_type": "display_data"
    }
   ],
   "source": [
    "# Create a scatter plot: Happiness & Social Support\n",
    "df.plot.scatter(x='Social_support', y='Happiness_Score')\n",
    "\n",
    "# Set the axis labels and plot title\n",
    "plt.xlabel('Social Support')\n",
    "plt.ylabel('Happiness Score')\n",
    "plt.title('Impact of Social Support on Happiness')\n",
    "\n",
    "# Display the plot\n",
    "plt.show()"
   ]
  },
  {
   "cell_type": "code",
   "execution_count": 5,
   "id": "cf24e489",
   "metadata": {},
   "outputs": [
    {
     "data": {
      "image/png": "[encoded data removed]",
      "text/plain": [
       "<Figure size 432x288 with 1 Axes>"
      ]
     },
     "metadata": {
      "needs_background": "light"
     },
     "output_type": "display_data"
    }
   ],
   "source": [
    "# Create a scatter plot: Happiness & Healthy Life Expectancy\n",
    "df.plot.scatter(x='Healthy_life_expectancy', y='Happiness_Score')\n",
    "\n",
    "# Set the axis labels and plot title\n",
    "plt.xlabel('Healthy Life Expectancy')\n",
    "plt.ylabel('Happiness Score')\n",
    "plt.title('Impact of Healthy Life Expectancy on Happiness')\n",
    "\n",
    "# Display the plot\n",
    "plt.show()"
   ]
  },
  {
   "cell_type": "code",
   "execution_count": 6,
   "id": "604dc31a",
   "metadata": {},
   "outputs": [
    {
     "data": {
      "image/png": "[encoded data removed]",
      "text/plain": [
       "<Figure size 432x288 with 1 Axes>"
      ]
     },
     "metadata": {
      "needs_background": "light"
     },
     "output_type": "display_data"
    }
   ],
   "source": [
    "# Create a scatter plot: Happiness & Corruption\n",
    "df.plot.scatter(x='Corruption', y='Happiness_Score')\n",
    "\n",
    "# Set the axis labels and plot title\n",
    "plt.xlabel('Corruption')\n",
    "plt.ylabel('Happiness Score')\n",
    "plt.title('Impact of Corruption on Happiness')\n",
    "\n",
    "# Display the plot\n",
    "plt.show()"
   ]
  },
  {
   "cell_type": "code",
   "execution_count": 7,
   "id": "50f649c7",
   "metadata": {},
   "outputs": [
    {
     "data": {
      "image/png": "[encoded data removed]",
      "text/plain": [
       "<Figure size 432x288 with 1 Axes>"
      ]
     },
     "metadata": {
      "needs_background": "light"
     },
     "output_type": "display_data"
    }
   ],
   "source": [
    "# Create a scatter plot: Happiness & Overall Freedom \n",
    "\n",
    "df.plot.scatter(x='Freedom_Score', y='Happiness_Score')\n",
    "\n",
    "# Set the axis labels and plot title\n",
    "plt.xlabel('Freedom Score')\n",
    "plt.ylabel('Happiness Score')\n",
    "plt.title('Impact of Overall Freedom on Happiness')\n",
    "\n",
    "# Display the plot\n",
    "plt.show()"
   ]
  },
  {
   "cell_type": "code",
   "execution_count": 8,
   "id": "3875ca04",
   "metadata": {},
   "outputs": [
    {
     "data": {
      "image/png": "[encoded data removed]",
      "text/plain": [
       "<Figure size 432x288 with 1 Axes>"
      ]
     },
     "metadata": {
      "needs_background": "light"
     },
     "output_type": "display_data"
    }
   ],
   "source": [
    "# Create a scatter plot: Happiness & Property Rights \n",
    "\n",
    "df.plot.scatter(x='Property_Rights', y='Happiness_Score')\n",
    "\n",
    "# Set the axis labels and plot title\n",
    "plt.xlabel('Property Rights')\n",
    "plt.ylabel('Happiness Score')\n",
    "plt.title('Impact of Property Rights on Happiness')\n",
    "\n",
    "# Display the plot\n",
    "plt.show()"
   ]
  },
  {
   "cell_type": "code",
   "execution_count": 9,
   "id": "24814175",
   "metadata": {},
   "outputs": [
    {
     "data": {
      "image/png": "[encoded data removed]",
      "text/plain": [
       "<Figure size 432x288 with 1 Axes>"
      ]
     },
     "metadata": {
      "needs_background": "light"
     },
     "output_type": "display_data"
    }
   ],
   "source": [
    "# Create a scatter plot: Happiness & Government Spending \n",
    "\n",
    "df.plot.scatter(x='Government_Spending', y='Happiness_Score')\n",
    "\n",
    "# Set the axis labels and plot title\n",
    "plt.xlabel('Government Spending')\n",
    "plt.ylabel('Happiness Score')\n",
    "plt.title('Impact of Government Spending on Happiness')\n",
    "\n",
    "# Display the plot\n",
    "plt.show()"
   ]
  },
  {
   "cell_type": "code",
   "execution_count": 10,
   "id": "2532a861",
   "metadata": {},
   "outputs": [
    {
     "data": {
      "image/png": "[encoded data removed]",
      "text/plain": [
       "<Figure size 432x288 with 1 Axes>"
      ]
     },
     "metadata": {
      "needs_background": "light"
     },
     "output_type": "display_data"
    }
   ],
   "source": [
    "# Create a scatter plot: Happiness & Business Freedom \n",
    "\n",
    "df.plot.scatter(x='Business', y='Happiness_Score')\n",
    "\n",
    "# Set the axis labels and plot title\n",
    "plt.xlabel('Business Freedom')\n",
    "plt.ylabel('Happiness Score')\n",
    "plt.title('Impact of Business Freedom on Happiness')\n",
    "\n",
    "# Display the plot\n",
    "plt.show()"
   ]
  },
  {
   "cell_type": "code",
   "execution_count": 11,
   "id": "21ae2544",
   "metadata": {},
   "outputs": [
    {
     "data": {
      "image/png": "[encoded data removed]",
      "text/plain": [
       "<Figure size 432x288 with 1 Axes>"
      ]
     },
     "metadata": {
      "needs_background": "light"
     },
     "output_type": "display_data"
    }
   ],
   "source": [
    "# Create a scatter plot: Happiness & Trade Freedom \n",
    "\n",
    "df.plot.scatter(x='Trade', y='Happiness_Score')\n",
    "\n",
    "# Set the axis labels and plot title\n",
    "plt.xlabel('Trade Freedom')\n",
    "plt.ylabel('Happiness Score')\n",
    "plt.title('Impact of Trade Freedom on Happiness')\n",
    "\n",
    "# Display the plot\n",
    "plt.show()"
   ]
  },
  {
   "cell_type": "code",
   "execution_count": 12,
   "id": "2b0adb37",
   "metadata": {},
   "outputs": [
    {
     "data": {
      "image/png": "[encoded data removed]",
      "text/plain": [
       "<Figure size 432x288 with 1 Axes>"
      ]
     },
     "metadata": {
      "needs_background": "light"
     },
     "output_type": "display_data"
    }
   ],
   "source": [
    "# Create a scatter plot: Happiness & Crime \n",
    "\n",
    "df.plot.scatter(x='Crime_Index', y='Happiness_Score')\n",
    "\n",
    "# Set the axis labels and plot title\n",
    "plt.xlabel('Crime Index')\n",
    "plt.ylabel('Happiness Score')\n",
    "plt.title('Impact of Crime on Happiness')\n",
    "\n",
    "# Display the plot\n",
    "plt.show()"
   ]
  },
  {
   "cell_type": "markdown",
   "id": "9969beb0",
   "metadata": {},
   "source": [
    "### MULTIVARIATE REGRESSION ANALYSIS###"
   ]
  },
  {
   "cell_type": "markdown",
   "id": "02fa3290",
   "metadata": {},
   "source": [
    "<center>The Section below represents a multivariate regression analysis of the Impact of GDP per Capita, Social Support, Healthy Life Expectancy, Corruption, Freedom_Score, Property_Rights, Government_Spending, Business, Trade, Investment, Crime_Index, and Population on Happiness Scores</center>"
   ]
  },
  {
   "cell_type": "code",
   "execution_count": 13,
   "id": "e3b185af",
   "metadata": {},
   "outputs": [
    {
     "name": "stdout",
     "output_type": "stream",
     "text": [
      "                            OLS Regression Results                            \n",
      "==============================================================================\n",
      "Dep. Variable:        Happiness_Score   R-squared:                       0.850\n",
      "Model:                            OLS   Adj. R-squared:                  0.831\n",
      "Method:                 Least Squares   F-statistic:                     46.23\n",
      "Date:                Tue, 30 May 2023   Prob (F-statistic):           6.33e-35\n",
      "Time:                        16:42:50   Log-Likelihood:                -61.850\n",
      "No. Observations:                 111   AIC:                             149.7\n",
      "Df Residuals:                      98   BIC:                             184.9\n",
      "Df Model:                          12                                         \n",
      "Covariance Type:            nonrobust                                         \n",
      "===========================================================================================\n",
      "                              coef    std err          t      P>|t|      [0.025      0.975]\n",
      "-------------------------------------------------------------------------------------------\n",
      "const                      -2.2913      1.102     -2.080      0.040      -4.478      -0.105\n",
      "GDP_per_capita              0.0597      0.094      0.637      0.526      -0.126       0.246\n",
      "Social_support              5.6560      0.596      9.489      0.000       4.473       6.839\n",
      "Healthy_life_expectancy     0.0325      0.015      2.168      0.033       0.003       0.062\n",
      "Corruption                 -0.7455      0.292     -2.549      0.012      -1.326      -0.165\n",
      "Freedom_Score               0.0124      0.015      0.811      0.419      -0.018       0.043\n",
      "Property_Rights            -0.0101      0.005     -1.988      0.050      -0.020   -1.87e-05\n",
      "Government_Spending        -0.0018      0.003     -0.563      0.575      -0.008       0.005\n",
      "Business                    0.0291      0.008      3.431      0.001       0.012       0.046\n",
      "Trade                      -0.0167      0.008     -2.052      0.043      -0.033      -0.001\n",
      "Investment                  0.0044      0.004      1.067      0.289      -0.004       0.013\n",
      "Crime_Index                 0.0018      0.004      0.437      0.663      -0.006       0.010\n",
      "Population               9.045e-11   2.41e-10      0.375      0.708   -3.88e-10    5.69e-10\n",
      "==============================================================================\n",
      "Omnibus:                        0.060   Durbin-Watson:                   1.990\n",
      "Prob(Omnibus):                  0.970   Jarque-Bera (JB):                0.040\n",
      "Skew:                          -0.038   Prob(JB):                        0.980\n",
      "Kurtosis:                       2.944   Cond. No.                     5.31e+09\n",
      "==============================================================================\n",
      "\n",
      "Notes:\n",
      "[1] Standard Errors assume that the covariance matrix of the errors is correctly specified.\n",
      "[2] The condition number is large, 5.31e+09. This might indicate that there are\n",
      "strong multicollinearity or other numerical problems.\n"
     ]
    }
   ],
   "source": [
    "# Regression analysis to test model\n",
    "\n",
    "# Define the dependent variable (y) and independent variables (x)\n",
    "y = df['Happiness_Score']\n",
    "x = df[['GDP_per_capita', 'Social_support', 'Healthy_life_expectancy', 'Corruption', 'Freedom_Score', 'Property_Rights', 'Government_Spending', 'Business', 'Trade', 'Investment', 'Crime_Index', 'Population']]\n",
    "\n",
    "# Add a constant term to the independent variables\n",
    "x = sm.add_constant(x)\n",
    "\n",
    "# Perform the multivariate regression analysis\n",
    "model = sm.OLS(y, x).fit()\n",
    "\n",
    "# Print the summary statistics of the regression model\n",
    "print(model.summary())\n"
   ]
  },
  {
   "cell_type": "markdown",
   "id": "8e327d70",
   "metadata": {},
   "source": [
    "CONCLUSION: based on the model above, social support, corruption, business freedom, and trade freedom are the only statistically significant determinants of happiness for all the countries in our dataset."
   ]
  },
  {
   "cell_type": "markdown",
   "id": "597bc2b2",
   "metadata": {},
   "source": [
    "### TABLES & INTERACTIVE BAR CHARTS: Social Support and Corruption###"
   ]
  },
  {
   "cell_type": "markdown",
   "id": "c3579e3d",
   "metadata": {},
   "source": [
    "#### Bottom 6 - The table illustrates the Bottom 6 Countries based on Happiness Score and the link leads to a Github page with an interactive bar chart of social support and corruption for those countries:####\n",
    "https://jcndongo.github.io/bottom6countries.github.io/BOTTOM6_index.html"
   ]
  },
  {
   "cell_type": "code",
   "execution_count": 14,
   "id": "89471365",
   "metadata": {},
   "outputs": [
    {
     "data": {
      "text/html": [
       "<div>\n",
       "<style scoped>\n",
       "    .dataframe tbody tr th:only-of-type {\n",
       "        vertical-align: middle;\n",
       "    }\n",
       "\n",
       "    .dataframe tbody tr th {\n",
       "        vertical-align: top;\n",
       "    }\n",
       "\n",
       "    .dataframe thead th {\n",
       "        text-align: right;\n",
       "    }\n",
       "</style>\n",
       "<table border=\"1\" class=\"dataframe\">\n",
       "  <thead>\n",
       "    <tr style=\"text-align: right;\">\n",
       "      <th></th>\n",
       "      <th>Country</th>\n",
       "      <th>Happiness_Score</th>\n",
       "      <th>GDP_per_capita</th>\n",
       "      <th>Social_support</th>\n",
       "      <th>Healthy_life_expectancy</th>\n",
       "      <th>Corruption</th>\n",
       "      <th>Id</th>\n",
       "      <th>Freedom_Score</th>\n",
       "      <th>Property_Rights</th>\n",
       "      <th>Government_Spending</th>\n",
       "      <th>Business</th>\n",
       "      <th>Trade</th>\n",
       "      <th>Investment</th>\n",
       "      <th>rank</th>\n",
       "      <th>Crime_Index</th>\n",
       "      <th>Population</th>\n",
       "    </tr>\n",
       "  </thead>\n",
       "  <tbody>\n",
       "    <tr>\n",
       "      <th>0</th>\n",
       "      <td>Afghanistan</td>\n",
       "      <td>1.859</td>\n",
       "      <td>7.324</td>\n",
       "      <td>0.341</td>\n",
       "      <td>54.712</td>\n",
       "      <td>0.847</td>\n",
       "      <td>1</td>\n",
       "      <td>0.0</td>\n",
       "      <td>5.8</td>\n",
       "      <td>0.0</td>\n",
       "      <td>34.6</td>\n",
       "      <td>0.0</td>\n",
       "      <td>0.0</td>\n",
       "      <td>4</td>\n",
       "      <td>76</td>\n",
       "      <td>42239854</td>\n",
       "    </tr>\n",
       "    <tr>\n",
       "      <th>57</th>\n",
       "      <td>Lebanon</td>\n",
       "      <td>2.392</td>\n",
       "      <td>9.478</td>\n",
       "      <td>0.530</td>\n",
       "      <td>66.149</td>\n",
       "      <td>0.891</td>\n",
       "      <td>93</td>\n",
       "      <td>45.6</td>\n",
       "      <td>33.1</td>\n",
       "      <td>80.7</td>\n",
       "      <td>48.1</td>\n",
       "      <td>71.4</td>\n",
       "      <td>30.0</td>\n",
       "      <td>60</td>\n",
       "      <td>47</td>\n",
       "      <td>5353930</td>\n",
       "    </tr>\n",
       "    <tr>\n",
       "      <th>110</th>\n",
       "      <td>Zimbabwe</td>\n",
       "      <td>3.204</td>\n",
       "      <td>7.641</td>\n",
       "      <td>0.690</td>\n",
       "      <td>54.050</td>\n",
       "      <td>0.766</td>\n",
       "      <td>183</td>\n",
       "      <td>39.0</td>\n",
       "      <td>20.0</td>\n",
       "      <td>92.6</td>\n",
       "      <td>39.8</td>\n",
       "      <td>54.0</td>\n",
       "      <td>25.0</td>\n",
       "      <td>25</td>\n",
       "      <td>59</td>\n",
       "      <td>16665409</td>\n",
       "    </tr>\n",
       "    <tr>\n",
       "      <th>12</th>\n",
       "      <td>Botswana</td>\n",
       "      <td>3.435</td>\n",
       "      <td>9.629</td>\n",
       "      <td>0.753</td>\n",
       "      <td>54.725</td>\n",
       "      <td>0.830</td>\n",
       "      <td>21</td>\n",
       "      <td>64.9</td>\n",
       "      <td>72.8</td>\n",
       "      <td>61.1</td>\n",
       "      <td>65.2</td>\n",
       "      <td>78.6</td>\n",
       "      <td>65.0</td>\n",
       "      <td>42</td>\n",
       "      <td>53</td>\n",
       "      <td>2675352</td>\n",
       "    </tr>\n",
       "    <tr>\n",
       "      <th>96</th>\n",
       "      <td>Tanzania</td>\n",
       "      <td>3.694</td>\n",
       "      <td>7.857</td>\n",
       "      <td>0.653</td>\n",
       "      <td>59.401</td>\n",
       "      <td>0.554</td>\n",
       "      <td>162</td>\n",
       "      <td>60.0</td>\n",
       "      <td>44.8</td>\n",
       "      <td>91.3</td>\n",
       "      <td>50.1</td>\n",
       "      <td>60.6</td>\n",
       "      <td>55.0</td>\n",
       "      <td>35</td>\n",
       "      <td>56</td>\n",
       "      <td>67438106</td>\n",
       "    </tr>\n",
       "    <tr>\n",
       "      <th>109</th>\n",
       "      <td>Zambia</td>\n",
       "      <td>3.982</td>\n",
       "      <td>8.074</td>\n",
       "      <td>0.694</td>\n",
       "      <td>55.032</td>\n",
       "      <td>0.818</td>\n",
       "      <td>182</td>\n",
       "      <td>47.8</td>\n",
       "      <td>36.0</td>\n",
       "      <td>69.6</td>\n",
       "      <td>43.9</td>\n",
       "      <td>65.2</td>\n",
       "      <td>55.0</td>\n",
       "      <td>74</td>\n",
       "      <td>44</td>\n",
       "      <td>20569737</td>\n",
       "    </tr>\n",
       "  </tbody>\n",
       "</table>\n",
       "</div>"
      ],
      "text/plain": [
       "         Country  Happiness_Score  GDP_per_capita  Social_support  \\\n",
       "0    Afghanistan            1.859           7.324           0.341   \n",
       "57       Lebanon            2.392           9.478           0.530   \n",
       "110     Zimbabwe            3.204           7.641           0.690   \n",
       "12      Botswana            3.435           9.629           0.753   \n",
       "96      Tanzania            3.694           7.857           0.653   \n",
       "109       Zambia            3.982           8.074           0.694   \n",
       "\n",
       "     Healthy_life_expectancy  Corruption   Id  Freedom_Score  Property_Rights  \\\n",
       "0                     54.712       0.847    1            0.0              5.8   \n",
       "57                    66.149       0.891   93           45.6             33.1   \n",
       "110                   54.050       0.766  183           39.0             20.0   \n",
       "12                    54.725       0.830   21           64.9             72.8   \n",
       "96                    59.401       0.554  162           60.0             44.8   \n",
       "109                   55.032       0.818  182           47.8             36.0   \n",
       "\n",
       "     Government_Spending  Business  Trade  Investment  rank  Crime_Index  \\\n",
       "0                    0.0      34.6    0.0         0.0     4           76   \n",
       "57                  80.7      48.1   71.4        30.0    60           47   \n",
       "110                 92.6      39.8   54.0        25.0    25           59   \n",
       "12                  61.1      65.2   78.6        65.0    42           53   \n",
       "96                  91.3      50.1   60.6        55.0    35           56   \n",
       "109                 69.6      43.9   65.2        55.0    74           44   \n",
       "\n",
       "     Population  \n",
       "0      42239854  \n",
       "57      5353930  \n",
       "110    16665409  \n",
       "12      2675352  \n",
       "96     67438106  \n",
       "109    20569737  "
      ]
     },
     "execution_count": 14,
     "metadata": {},
     "output_type": "execute_result"
    }
   ],
   "source": [
    "# Print df by ascending Happiness Score - Least Happy\n",
    "Bottom6 = df.sort_values('Happiness_Score', ascending=True)\n",
    "\n",
    "# Print the sorted dataframe\n",
    "Bottom6.head(6)"
   ]
  },
  {
   "cell_type": "markdown",
   "id": "c8668bec",
   "metadata": {},
   "source": [
    "#### Top 6 - The table illustrates the Top 6 Countries based on Happiness Score and the link leads to a Github page with an interactive bar chart of social support and corruption for those countries:####\n",
    "https://jcndongo.github.io/top6countries.github.io/TOP6_index.html"
   ]
  },
  {
   "cell_type": "code",
   "execution_count": 15,
   "id": "efefaa5f",
   "metadata": {},
   "outputs": [
    {
     "data": {
      "text/html": [
       "<div>\n",
       "<style scoped>\n",
       "    .dataframe tbody tr th:only-of-type {\n",
       "        vertical-align: middle;\n",
       "    }\n",
       "\n",
       "    .dataframe tbody tr th {\n",
       "        vertical-align: top;\n",
       "    }\n",
       "\n",
       "    .dataframe thead th {\n",
       "        text-align: right;\n",
       "    }\n",
       "</style>\n",
       "<table border=\"1\" class=\"dataframe\">\n",
       "  <thead>\n",
       "    <tr style=\"text-align: right;\">\n",
       "      <th></th>\n",
       "      <th>Country</th>\n",
       "      <th>Happiness_Score</th>\n",
       "      <th>GDP_per_capita</th>\n",
       "      <th>Social_support</th>\n",
       "      <th>Healthy_life_expectancy</th>\n",
       "      <th>Corruption</th>\n",
       "      <th>Id</th>\n",
       "      <th>Freedom_Score</th>\n",
       "      <th>Property_Rights</th>\n",
       "      <th>Government_Spending</th>\n",
       "      <th>Business</th>\n",
       "      <th>Trade</th>\n",
       "      <th>Investment</th>\n",
       "      <th>rank</th>\n",
       "      <th>Crime_Index</th>\n",
       "      <th>Population</th>\n",
       "    </tr>\n",
       "  </thead>\n",
       "  <tbody>\n",
       "    <tr>\n",
       "      <th>32</th>\n",
       "      <td>Finland</td>\n",
       "      <td>7.804</td>\n",
       "      <td>10.792</td>\n",
       "      <td>0.969</td>\n",
       "      <td>71.150</td>\n",
       "      <td>0.182</td>\n",
       "      <td>57</td>\n",
       "      <td>77.1</td>\n",
       "      <td>100.0</td>\n",
       "      <td>8.5</td>\n",
       "      <td>84.9</td>\n",
       "      <td>78.6</td>\n",
       "      <td>85.0</td>\n",
       "      <td>114</td>\n",
       "      <td>28</td>\n",
       "      <td>5545475</td>\n",
       "    </tr>\n",
       "    <tr>\n",
       "      <th>25</th>\n",
       "      <td>Denmark</td>\n",
       "      <td>7.586</td>\n",
       "      <td>10.962</td>\n",
       "      <td>0.954</td>\n",
       "      <td>71.250</td>\n",
       "      <td>0.196</td>\n",
       "      <td>45</td>\n",
       "      <td>77.6</td>\n",
       "      <td>97.5</td>\n",
       "      <td>20.9</td>\n",
       "      <td>89.0</td>\n",
       "      <td>78.6</td>\n",
       "      <td>90.0</td>\n",
       "      <td>117</td>\n",
       "      <td>26</td>\n",
       "      <td>5910913</td>\n",
       "    </tr>\n",
       "    <tr>\n",
       "      <th>41</th>\n",
       "      <td>Iceland</td>\n",
       "      <td>7.530</td>\n",
       "      <td>10.896</td>\n",
       "      <td>0.983</td>\n",
       "      <td>72.050</td>\n",
       "      <td>0.668</td>\n",
       "      <td>73</td>\n",
       "      <td>72.2</td>\n",
       "      <td>96.8</td>\n",
       "      <td>31.5</td>\n",
       "      <td>83.3</td>\n",
       "      <td>80.4</td>\n",
       "      <td>80.0</td>\n",
       "      <td>124</td>\n",
       "      <td>24</td>\n",
       "      <td>375318</td>\n",
       "    </tr>\n",
       "    <tr>\n",
       "      <th>47</th>\n",
       "      <td>Israel</td>\n",
       "      <td>7.473</td>\n",
       "      <td>10.639</td>\n",
       "      <td>0.943</td>\n",
       "      <td>72.697</td>\n",
       "      <td>0.708</td>\n",
       "      <td>79</td>\n",
       "      <td>68.9</td>\n",
       "      <td>82.3</td>\n",
       "      <td>49.1</td>\n",
       "      <td>84.9</td>\n",
       "      <td>82.6</td>\n",
       "      <td>80.0</td>\n",
       "      <td>104</td>\n",
       "      <td>31</td>\n",
       "      <td>9174520</td>\n",
       "    </tr>\n",
       "    <tr>\n",
       "      <th>71</th>\n",
       "      <td>Netherlands</td>\n",
       "      <td>7.403</td>\n",
       "      <td>10.942</td>\n",
       "      <td>0.930</td>\n",
       "      <td>71.550</td>\n",
       "      <td>0.379</td>\n",
       "      <td>119</td>\n",
       "      <td>78.0</td>\n",
       "      <td>95.6</td>\n",
       "      <td>37.9</td>\n",
       "      <td>84.4</td>\n",
       "      <td>78.6</td>\n",
       "      <td>90.0</td>\n",
       "      <td>115</td>\n",
       "      <td>27</td>\n",
       "      <td>17618299</td>\n",
       "    </tr>\n",
       "    <tr>\n",
       "      <th>93</th>\n",
       "      <td>Sweden</td>\n",
       "      <td>7.395</td>\n",
       "      <td>10.883</td>\n",
       "      <td>0.939</td>\n",
       "      <td>72.150</td>\n",
       "      <td>0.202</td>\n",
       "      <td>157</td>\n",
       "      <td>77.5</td>\n",
       "      <td>96.6</td>\n",
       "      <td>26.2</td>\n",
       "      <td>84.6</td>\n",
       "      <td>78.6</td>\n",
       "      <td>85.0</td>\n",
       "      <td>54</td>\n",
       "      <td>48</td>\n",
       "      <td>10612086</td>\n",
       "    </tr>\n",
       "  </tbody>\n",
       "</table>\n",
       "</div>"
      ],
      "text/plain": [
       "        Country  Happiness_Score  GDP_per_capita  Social_support  \\\n",
       "32      Finland            7.804          10.792           0.969   \n",
       "25      Denmark            7.586          10.962           0.954   \n",
       "41      Iceland            7.530          10.896           0.983   \n",
       "47       Israel            7.473          10.639           0.943   \n",
       "71  Netherlands            7.403          10.942           0.930   \n",
       "93       Sweden            7.395          10.883           0.939   \n",
       "\n",
       "    Healthy_life_expectancy  Corruption   Id  Freedom_Score  Property_Rights  \\\n",
       "32                   71.150       0.182   57           77.1            100.0   \n",
       "25                   71.250       0.196   45           77.6             97.5   \n",
       "41                   72.050       0.668   73           72.2             96.8   \n",
       "47                   72.697       0.708   79           68.9             82.3   \n",
       "71                   71.550       0.379  119           78.0             95.6   \n",
       "93                   72.150       0.202  157           77.5             96.6   \n",
       "\n",
       "    Government_Spending  Business  Trade  Investment  rank  Crime_Index  \\\n",
       "32                  8.5      84.9   78.6        85.0   114           28   \n",
       "25                 20.9      89.0   78.6        90.0   117           26   \n",
       "41                 31.5      83.3   80.4        80.0   124           24   \n",
       "47                 49.1      84.9   82.6        80.0   104           31   \n",
       "71                 37.9      84.4   78.6        90.0   115           27   \n",
       "93                 26.2      84.6   78.6        85.0    54           48   \n",
       "\n",
       "    Population  \n",
       "32     5545475  \n",
       "25     5910913  \n",
       "41      375318  \n",
       "47     9174520  \n",
       "71    17618299  \n",
       "93    10612086  "
      ]
     },
     "execution_count": 15,
     "metadata": {},
     "output_type": "execute_result"
    }
   ],
   "source": [
    "# Print df by descending Happiness Score - Most Happy\n",
    "Top6 = df.sort_values('Happiness_Score', ascending=False)\n",
    "\n",
    "# Print the sorted dataframe\n",
    "Top6.head(6)"
   ]
  },
  {
   "cell_type": "code",
   "execution_count": null,
   "id": "bc0c184d",
   "metadata": {},
   "outputs": [],
   "source": []
  }
 ],
 "metadata": {
  "kernelspec": {
   "display_name": "Python [conda env:PythonData] *",
   "language": "python",
   "name": "conda-env-PythonData-py"
  },
  "language_info": {
   "codemirror_mode": {
    "name": "ipython",
    "version": 3
   },
   "file_extension": ".py",
   "mimetype": "text/x-python",
   "name": "python",
   "nbconvert_exporter": "python",
   "pygments_lexer": "ipython3",
   "version": "3.7.7"
  }
 },
 "nbformat": 4,
 "nbformat_minor": 5
}
