{
 "cells": [
  {
   "cell_type": "code",
   "execution_count": 1,
   "id": "089cfc56",
   "metadata": {},
   "outputs": [],
   "source": [
    "### Converting Happiness.csv file into a .js file"
   ]
  },
  {
   "cell_type": "code",
   "execution_count": 2,
   "id": "7759a420",
   "metadata": {},
   "outputs": [],
   "source": [
    "# Import Dependencies\n",
    "import csv\n",
    "import json\n",
    "import os"
   ]
  },
  {
   "cell_type": "code",
   "execution_count": 3,
   "id": "8db73668",
   "metadata": {},
   "outputs": [],
   "source": [
    "# Read .csv file and create .js file in the same foler\n",
    "def csv_to_js(csv_file):\n",
    "    data = []\n",
    "    with open(csv_file, 'r') as file:\n",
    "        csv_reader = csv.DictReader(file)\n",
    "        for row in csv_reader:\n",
    "            data.append(row)\n",
    "\n",
    "    js_file = os.path.splitext(csv_file)[0] + '.js'\n",
    "    with open(js_file, 'w') as file:\n",
    "        file.write('const data = ')\n",
    "        json.dump(data, file, indent=4)\n",
    "        file.write(';')\n",
    "\n",
    "csv_file = 'Happiness_Factors.csv'\n",
    "\n",
    "csv_to_js(csv_file)\n"
   ]
  }
 ],
 "metadata": {
  "kernelspec": {
   "display_name": "Python [conda env:PythonData] *",
   "language": "python",
   "name": "conda-env-PythonData-py"
  },
  "language_info": {
   "codemirror_mode": {
    "name": "ipython",
    "version": 3
   },
   "file_extension": ".py",
   "mimetype": "text/x-python",
   "name": "python",
   "nbconvert_exporter": "python",
   "pygments_lexer": "ipython3",
   "version": "3.7.7"
  }
 },
 "nbformat": 4,
 "nbformat_minor": 5
}
